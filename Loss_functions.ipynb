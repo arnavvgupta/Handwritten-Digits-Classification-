{
 "cells": [
  {
   "cell_type": "code",
   "execution_count": 22,
   "metadata": {},
   "outputs": [],
   "source": [
    "import numpy as np\n",
    "\n",
    "y_pred=np.array([1,1,0,0,1])\n",
    "y_true=np.array([.3,.7,1,0,.5])"
   ]
  },
  {
   "cell_type": "markdown",
   "metadata": {},
   "source": [
    "# Mean Absolute Error"
   ]
  },
  {
   "cell_type": "code",
   "execution_count": 24,
   "metadata": {},
   "outputs": [],
   "source": [
    "def mean_abs_error(y_pred,y_true):\n",
    "    total_error=0\n",
    "    for yp,yt in zip(y_pred,y_true):\n",
    "        total_error+=abs(yp-yt)\n",
    "    print(\"Total  abs error\",total_error)\n",
    "    print(\"Total mean ans error \",total_error/len(y_pred))"
   ]
  },
  {
   "cell_type": "code",
   "execution_count": 25,
   "metadata": {},
   "outputs": [
    {
     "name": "stdout",
     "output_type": "stream",
     "text": [
      "Total  abs error 2.5\n",
      "Total mean ans error  0.5\n"
     ]
    }
   ],
   "source": [
    "mean_abs_error(y_pred,y_true)"
   ]
  },
  {
   "cell_type": "code",
   "execution_count": 26,
   "metadata": {},
   "outputs": [
    {
     "name": "stdout",
     "output_type": "stream",
     "text": [
      "0.5\n",
      "2.5\n"
     ]
    }
   ],
   "source": [
    "print(np.mean(np.abs(y_pred-y_true)))\n",
    "print(np.sum(np.abs(y_pred-y_true)))"
   ]
  },
  {
   "cell_type": "markdown",
   "metadata": {},
   "source": [
    "# Mean square error"
   ]
  },
  {
   "cell_type": "code",
   "execution_count": 27,
   "metadata": {},
   "outputs": [],
   "source": [
    "def mean_squ_error(y_pred,y_true):\n",
    "    total_error=0\n",
    "    for yp,yt in zip(y_pred,y_true):\n",
    "        total_error+=(yp-yt)**2\n",
    "    print(\"Total  squ error\",total_error)\n",
    "    print(\"Total mean ans error \",total_error/len(y_pred))"
   ]
  },
  {
   "cell_type": "code",
   "execution_count": 28,
   "metadata": {},
   "outputs": [
    {
     "name": "stdout",
     "output_type": "stream",
     "text": [
      "Total  squ error 1.83\n",
      "Total mean ans error  0.366\n"
     ]
    }
   ],
   "source": [
    "mean_squ_error(y_pred,y_true)"
   ]
  },
  {
   "cell_type": "code",
   "execution_count": 29,
   "metadata": {},
   "outputs": [
    {
     "name": "stdout",
     "output_type": "stream",
     "text": [
      "0.5\n",
      "2.5\n"
     ]
    }
   ],
   "source": [
    "print(np.mean(np.abs(y_pred-y_true)))\n",
    "print(np.sum(np.abs(y_pred-y_true)))"
   ]
  },
  {
   "cell_type": "markdown",
   "metadata": {},
   "source": [
    "# Log loss"
   ]
  },
  {
   "cell_type": "code",
   "execution_count": 52,
   "metadata": {},
   "outputs": [],
   "source": [
    "eplison=1e-15"
   ]
  },
  {
   "cell_type": "code",
   "execution_count": 53,
   "metadata": {},
   "outputs": [
    {
     "name": "stdout",
     "output_type": "stream",
     "text": [
      "Log Loss: 17.2696280766844\n"
     ]
    }
   ],
   "source": [
    "def log_loss(y_true, y_pred):\n",
    "    epsilon = 1e-15  # Small value to prevent division by zero or taking the logarithm of zero\n",
    "    y_pred = np.clip(y_pred, epsilon, 1 - epsilon)  # Clip predictions to avoid extreme values\n",
    "    loss = -np.mean(y_true * np.log(y_pred) + (1 - y_true) * np.log(1 - y_pred))\n",
    "    return loss\n",
    "\n",
    "\n",
    "\n",
    "# Calculate log loss\n",
    "loss = log_loss(y_true, y_pred)\n",
    "print(\"Log Loss:\", loss)\n"
   ]
  }
 ],
 "metadata": {
  "kernelspec": {
   "display_name": "base",
   "language": "python",
   "name": "python3"
  },
  "language_info": {
   "codemirror_mode": {
    "name": "ipython",
    "version": 3
   },
   "file_extension": ".py",
   "mimetype": "text/x-python",
   "name": "python",
   "nbconvert_exporter": "python",
   "pygments_lexer": "ipython3",
   "version": "3.10.9"
  },
  "orig_nbformat": 4
 },
 "nbformat": 4,
 "nbformat_minor": 2
}
