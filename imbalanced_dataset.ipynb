{
 "cells": [
  {
   "cell_type": "markdown",
   "metadata": {},
   "source": [
    "# ANN"
   ]
  },
  {
   "cell_type": "code",
   "execution_count": 57,
   "metadata": {},
   "outputs": [],
   "source": [
    "import tensorflow as tf\n",
    "from tensorflow import keras\n",
    "import pandas as pd\n",
    "import numpy as np \n",
    "from sklearn.metrics import confusion_matrix , classification_report\n"
   ]
  },
  {
   "cell_type": "code",
   "execution_count": 5,
   "metadata": {},
   "outputs": [
    {
     "data": {
      "text/html": [
       "<div>\n",
       "<style scoped>\n",
       "    .dataframe tbody tr th:only-of-type {\n",
       "        vertical-align: middle;\n",
       "    }\n",
       "\n",
       "    .dataframe tbody tr th {\n",
       "        vertical-align: top;\n",
       "    }\n",
       "\n",
       "    .dataframe thead th {\n",
       "        text-align: right;\n",
       "    }\n",
       "</style>\n",
       "<table border=\"1\" class=\"dataframe\">\n",
       "  <thead>\n",
       "    <tr style=\"text-align: right;\">\n",
       "      <th></th>\n",
       "      <th>customerID</th>\n",
       "      <th>gender</th>\n",
       "      <th>SeniorCitizen</th>\n",
       "      <th>Partner</th>\n",
       "      <th>Dependents</th>\n",
       "      <th>tenure</th>\n",
       "      <th>PhoneService</th>\n",
       "      <th>MultipleLines</th>\n",
       "      <th>InternetService</th>\n",
       "      <th>OnlineSecurity</th>\n",
       "      <th>...</th>\n",
       "      <th>DeviceProtection</th>\n",
       "      <th>TechSupport</th>\n",
       "      <th>StreamingTV</th>\n",
       "      <th>StreamingMovies</th>\n",
       "      <th>Contract</th>\n",
       "      <th>PaperlessBilling</th>\n",
       "      <th>PaymentMethod</th>\n",
       "      <th>MonthlyCharges</th>\n",
       "      <th>TotalCharges</th>\n",
       "      <th>Churn</th>\n",
       "    </tr>\n",
       "  </thead>\n",
       "  <tbody>\n",
       "    <tr>\n",
       "      <th>0</th>\n",
       "      <td>7590-VHVEG</td>\n",
       "      <td>Female</td>\n",
       "      <td>0</td>\n",
       "      <td>Yes</td>\n",
       "      <td>No</td>\n",
       "      <td>1</td>\n",
       "      <td>No</td>\n",
       "      <td>No phone service</td>\n",
       "      <td>DSL</td>\n",
       "      <td>No</td>\n",
       "      <td>...</td>\n",
       "      <td>No</td>\n",
       "      <td>No</td>\n",
       "      <td>No</td>\n",
       "      <td>No</td>\n",
       "      <td>Month-to-month</td>\n",
       "      <td>Yes</td>\n",
       "      <td>Electronic check</td>\n",
       "      <td>29.85</td>\n",
       "      <td>29.85</td>\n",
       "      <td>No</td>\n",
       "    </tr>\n",
       "    <tr>\n",
       "      <th>1</th>\n",
       "      <td>5575-GNVDE</td>\n",
       "      <td>Male</td>\n",
       "      <td>0</td>\n",
       "      <td>No</td>\n",
       "      <td>No</td>\n",
       "      <td>34</td>\n",
       "      <td>Yes</td>\n",
       "      <td>No</td>\n",
       "      <td>DSL</td>\n",
       "      <td>Yes</td>\n",
       "      <td>...</td>\n",
       "      <td>Yes</td>\n",
       "      <td>No</td>\n",
       "      <td>No</td>\n",
       "      <td>No</td>\n",
       "      <td>One year</td>\n",
       "      <td>No</td>\n",
       "      <td>Mailed check</td>\n",
       "      <td>56.95</td>\n",
       "      <td>1889.5</td>\n",
       "      <td>No</td>\n",
       "    </tr>\n",
       "    <tr>\n",
       "      <th>2</th>\n",
       "      <td>3668-QPYBK</td>\n",
       "      <td>Male</td>\n",
       "      <td>0</td>\n",
       "      <td>No</td>\n",
       "      <td>No</td>\n",
       "      <td>2</td>\n",
       "      <td>Yes</td>\n",
       "      <td>No</td>\n",
       "      <td>DSL</td>\n",
       "      <td>Yes</td>\n",
       "      <td>...</td>\n",
       "      <td>No</td>\n",
       "      <td>No</td>\n",
       "      <td>No</td>\n",
       "      <td>No</td>\n",
       "      <td>Month-to-month</td>\n",
       "      <td>Yes</td>\n",
       "      <td>Mailed check</td>\n",
       "      <td>53.85</td>\n",
       "      <td>108.15</td>\n",
       "      <td>Yes</td>\n",
       "    </tr>\n",
       "    <tr>\n",
       "      <th>3</th>\n",
       "      <td>7795-CFOCW</td>\n",
       "      <td>Male</td>\n",
       "      <td>0</td>\n",
       "      <td>No</td>\n",
       "      <td>No</td>\n",
       "      <td>45</td>\n",
       "      <td>No</td>\n",
       "      <td>No phone service</td>\n",
       "      <td>DSL</td>\n",
       "      <td>Yes</td>\n",
       "      <td>...</td>\n",
       "      <td>Yes</td>\n",
       "      <td>Yes</td>\n",
       "      <td>No</td>\n",
       "      <td>No</td>\n",
       "      <td>One year</td>\n",
       "      <td>No</td>\n",
       "      <td>Bank transfer (automatic)</td>\n",
       "      <td>42.30</td>\n",
       "      <td>1840.75</td>\n",
       "      <td>No</td>\n",
       "    </tr>\n",
       "    <tr>\n",
       "      <th>4</th>\n",
       "      <td>9237-HQITU</td>\n",
       "      <td>Female</td>\n",
       "      <td>0</td>\n",
       "      <td>No</td>\n",
       "      <td>No</td>\n",
       "      <td>2</td>\n",
       "      <td>Yes</td>\n",
       "      <td>No</td>\n",
       "      <td>Fiber optic</td>\n",
       "      <td>No</td>\n",
       "      <td>...</td>\n",
       "      <td>No</td>\n",
       "      <td>No</td>\n",
       "      <td>No</td>\n",
       "      <td>No</td>\n",
       "      <td>Month-to-month</td>\n",
       "      <td>Yes</td>\n",
       "      <td>Electronic check</td>\n",
       "      <td>70.70</td>\n",
       "      <td>151.65</td>\n",
       "      <td>Yes</td>\n",
       "    </tr>\n",
       "  </tbody>\n",
       "</table>\n",
       "<p>5 rows × 21 columns</p>\n",
       "</div>"
      ],
      "text/plain": [
       "   customerID  gender  SeniorCitizen Partner Dependents  tenure PhoneService  \\\n",
       "0  7590-VHVEG  Female              0     Yes         No       1           No   \n",
       "1  5575-GNVDE    Male              0      No         No      34          Yes   \n",
       "2  3668-QPYBK    Male              0      No         No       2          Yes   \n",
       "3  7795-CFOCW    Male              0      No         No      45           No   \n",
       "4  9237-HQITU  Female              0      No         No       2          Yes   \n",
       "\n",
       "      MultipleLines InternetService OnlineSecurity  ... DeviceProtection  \\\n",
       "0  No phone service             DSL             No  ...               No   \n",
       "1                No             DSL            Yes  ...              Yes   \n",
       "2                No             DSL            Yes  ...               No   \n",
       "3  No phone service             DSL            Yes  ...              Yes   \n",
       "4                No     Fiber optic             No  ...               No   \n",
       "\n",
       "  TechSupport StreamingTV StreamingMovies        Contract PaperlessBilling  \\\n",
       "0          No          No              No  Month-to-month              Yes   \n",
       "1          No          No              No        One year               No   \n",
       "2          No          No              No  Month-to-month              Yes   \n",
       "3         Yes          No              No        One year               No   \n",
       "4          No          No              No  Month-to-month              Yes   \n",
       "\n",
       "               PaymentMethod MonthlyCharges  TotalCharges Churn  \n",
       "0           Electronic check          29.85         29.85    No  \n",
       "1               Mailed check          56.95        1889.5    No  \n",
       "2               Mailed check          53.85        108.15   Yes  \n",
       "3  Bank transfer (automatic)          42.30       1840.75    No  \n",
       "4           Electronic check          70.70        151.65   Yes  \n",
       "\n",
       "[5 rows x 21 columns]"
      ]
     },
     "execution_count": 5,
     "metadata": {},
     "output_type": "execute_result"
    }
   ],
   "source": [
    "df=pd.read_csv(\"WA_Fn-UseC_-Telco-Customer-Churn.csv\")\n",
    "df.head()"
   ]
  },
  {
   "cell_type": "code",
   "execution_count": 6,
   "metadata": {},
   "outputs": [],
   "source": [
    "df.drop('customerID',axis=1,inplace=True)"
   ]
  },
  {
   "cell_type": "code",
   "execution_count": 7,
   "metadata": {},
   "outputs": [
    {
     "data": {
      "text/plain": [
       "gender               object\n",
       "SeniorCitizen         int64\n",
       "Partner              object\n",
       "Dependents           object\n",
       "tenure                int64\n",
       "PhoneService         object\n",
       "MultipleLines        object\n",
       "InternetService      object\n",
       "OnlineSecurity       object\n",
       "OnlineBackup         object\n",
       "DeviceProtection     object\n",
       "TechSupport          object\n",
       "StreamingTV          object\n",
       "StreamingMovies      object\n",
       "Contract             object\n",
       "PaperlessBilling     object\n",
       "PaymentMethod        object\n",
       "MonthlyCharges      float64\n",
       "TotalCharges         object\n",
       "Churn                object\n",
       "dtype: object"
      ]
     },
     "execution_count": 7,
     "metadata": {},
     "output_type": "execute_result"
    }
   ],
   "source": [
    "df.dtypes"
   ]
  },
  {
   "cell_type": "code",
   "execution_count": 8,
   "metadata": {},
   "outputs": [
    {
     "data": {
      "text/plain": [
       "0       False\n",
       "1       False\n",
       "2       False\n",
       "3       False\n",
       "4       False\n",
       "        ...  \n",
       "7038    False\n",
       "7039    False\n",
       "7040    False\n",
       "7041    False\n",
       "7042    False\n",
       "Name: TotalCharges, Length: 7043, dtype: bool"
      ]
     },
     "execution_count": 8,
     "metadata": {},
     "output_type": "execute_result"
    }
   ],
   "source": [
    "pd.to_numeric(df.TotalCharges,errors='coerce').isnull()"
   ]
  },
  {
   "cell_type": "code",
   "execution_count": 9,
   "metadata": {},
   "outputs": [
    {
     "data": {
      "text/plain": [
       "(11, 20)"
      ]
     },
     "execution_count": 9,
     "metadata": {},
     "output_type": "execute_result"
    }
   ],
   "source": [
    "df[pd.to_numeric(df.TotalCharges,errors='coerce').isnull()].shape"
   ]
  },
  {
   "cell_type": "code",
   "execution_count": 10,
   "metadata": {},
   "outputs": [
    {
     "data": {
      "text/plain": [
       "(7043, 20)"
      ]
     },
     "execution_count": 10,
     "metadata": {},
     "output_type": "execute_result"
    }
   ],
   "source": [
    "df.shape"
   ]
  },
  {
   "cell_type": "code",
   "execution_count": 11,
   "metadata": {},
   "outputs": [
    {
     "data": {
      "text/plain": [
       "(7032, 20)"
      ]
     },
     "execution_count": 11,
     "metadata": {},
     "output_type": "execute_result"
    }
   ],
   "source": [
    "df1=df[df[\"TotalCharges\"]!=\" \"]\n",
    "df1.shape"
   ]
  },
  {
   "cell_type": "code",
   "execution_count": 12,
   "metadata": {},
   "outputs": [
    {
     "name": "stderr",
     "output_type": "stream",
     "text": [
      "/var/folders/x8/0cf3559138x388gr8s9rqtl80000gn/T/ipykernel_94454/695980592.py:1: SettingWithCopyWarning: \n",
      "A value is trying to be set on a copy of a slice from a DataFrame.\n",
      "Try using .loc[row_indexer,col_indexer] = value instead\n",
      "\n",
      "See the caveats in the documentation: https://pandas.pydata.org/pandas-docs/stable/user_guide/indexing.html#returning-a-view-versus-a-copy\n",
      "  df1.TotalCharges=pd.to_numeric(df1.TotalCharges)\n"
     ]
    }
   ],
   "source": [
    "df1.TotalCharges=pd.to_numeric(df1.TotalCharges)"
   ]
  },
  {
   "cell_type": "code",
   "execution_count": 13,
   "metadata": {},
   "outputs": [
    {
     "data": {
      "text/plain": [
       "gender               object\n",
       "SeniorCitizen         int64\n",
       "Partner              object\n",
       "Dependents           object\n",
       "tenure                int64\n",
       "PhoneService         object\n",
       "MultipleLines        object\n",
       "InternetService      object\n",
       "OnlineSecurity       object\n",
       "OnlineBackup         object\n",
       "DeviceProtection     object\n",
       "TechSupport          object\n",
       "StreamingTV          object\n",
       "StreamingMovies      object\n",
       "Contract             object\n",
       "PaperlessBilling     object\n",
       "PaymentMethod        object\n",
       "MonthlyCharges      float64\n",
       "TotalCharges        float64\n",
       "Churn                object\n",
       "dtype: object"
      ]
     },
     "execution_count": 13,
     "metadata": {},
     "output_type": "execute_result"
    }
   ],
   "source": [
    "df1.dtypes"
   ]
  },
  {
   "cell_type": "code",
   "execution_count": 14,
   "metadata": {},
   "outputs": [],
   "source": [
    "tenure_churn_no=df1[df1.Churn=='No'].tenure\n",
    "tenure_churn_yes=df1[df1.Churn=='Yes'].tenure"
   ]
  },
  {
   "cell_type": "code",
   "execution_count": 15,
   "metadata": {},
   "outputs": [
    {
     "name": "stdout",
     "output_type": "stream",
     "text": [
      "gender: ['Female' 'Male']\n",
      "Partner: ['Yes' 'No']\n",
      "Dependents: ['No' 'Yes']\n",
      "PhoneService: ['No' 'Yes']\n",
      "MultipleLines: ['No phone service' 'No' 'Yes']\n",
      "InternetService: ['DSL' 'Fiber optic' 'No']\n",
      "OnlineSecurity: ['No' 'Yes' 'No internet service']\n",
      "OnlineBackup: ['Yes' 'No' 'No internet service']\n",
      "DeviceProtection: ['No' 'Yes' 'No internet service']\n",
      "TechSupport: ['No' 'Yes' 'No internet service']\n",
      "StreamingTV: ['No' 'Yes' 'No internet service']\n",
      "StreamingMovies: ['No' 'Yes' 'No internet service']\n",
      "Contract: ['Month-to-month' 'One year' 'Two year']\n",
      "PaperlessBilling: ['Yes' 'No']\n",
      "PaymentMethod: ['Electronic check' 'Mailed check' 'Bank transfer (automatic)'\n",
      " 'Credit card (automatic)']\n",
      "Churn: ['No' 'Yes']\n"
     ]
    }
   ],
   "source": [
    "def print_unique_col_values(df):\n",
    "       for column in df:\n",
    "            if df[column].dtypes=='object':\n",
    "                print(f'{column}: {df[column].unique()}') \n",
    "print_unique_col_values(df1)"
   ]
  },
  {
   "cell_type": "code",
   "execution_count": 16,
   "metadata": {},
   "outputs": [
    {
     "name": "stderr",
     "output_type": "stream",
     "text": [
      "/var/folders/x8/0cf3559138x388gr8s9rqtl80000gn/T/ipykernel_94454/2589434152.py:1: SettingWithCopyWarning: \n",
      "A value is trying to be set on a copy of a slice from a DataFrame\n",
      "\n",
      "See the caveats in the documentation: https://pandas.pydata.org/pandas-docs/stable/user_guide/indexing.html#returning-a-view-versus-a-copy\n",
      "  df1.replace('No internet service','No',inplace=True)\n",
      "/var/folders/x8/0cf3559138x388gr8s9rqtl80000gn/T/ipykernel_94454/2589434152.py:2: SettingWithCopyWarning: \n",
      "A value is trying to be set on a copy of a slice from a DataFrame\n",
      "\n",
      "See the caveats in the documentation: https://pandas.pydata.org/pandas-docs/stable/user_guide/indexing.html#returning-a-view-versus-a-copy\n",
      "  df1.replace('No phone service','No',inplace=True)\n"
     ]
    }
   ],
   "source": [
    "df1.replace('No internet service','No',inplace=True)\n",
    "df1.replace('No phone service','No',inplace=True)\n"
   ]
  },
  {
   "cell_type": "code",
   "execution_count": 17,
   "metadata": {},
   "outputs": [
    {
     "name": "stdout",
     "output_type": "stream",
     "text": [
      "gender: ['Female' 'Male']\n",
      "Partner: ['Yes' 'No']\n",
      "Dependents: ['No' 'Yes']\n",
      "PhoneService: ['No' 'Yes']\n",
      "MultipleLines: ['No' 'Yes']\n",
      "InternetService: ['DSL' 'Fiber optic' 'No']\n",
      "OnlineSecurity: ['No' 'Yes']\n",
      "OnlineBackup: ['Yes' 'No']\n",
      "DeviceProtection: ['No' 'Yes']\n",
      "TechSupport: ['No' 'Yes']\n",
      "StreamingTV: ['No' 'Yes']\n",
      "StreamingMovies: ['No' 'Yes']\n",
      "Contract: ['Month-to-month' 'One year' 'Two year']\n",
      "PaperlessBilling: ['Yes' 'No']\n",
      "PaymentMethod: ['Electronic check' 'Mailed check' 'Bank transfer (automatic)'\n",
      " 'Credit card (automatic)']\n",
      "Churn: ['No' 'Yes']\n"
     ]
    }
   ],
   "source": [
    "print_unique_col_values(df1)"
   ]
  },
  {
   "cell_type": "code",
   "execution_count": 18,
   "metadata": {},
   "outputs": [
    {
     "name": "stderr",
     "output_type": "stream",
     "text": [
      "/var/folders/x8/0cf3559138x388gr8s9rqtl80000gn/T/ipykernel_94454/1648037665.py:4: SettingWithCopyWarning: \n",
      "A value is trying to be set on a copy of a slice from a DataFrame\n",
      "\n",
      "See the caveats in the documentation: https://pandas.pydata.org/pandas-docs/stable/user_guide/indexing.html#returning-a-view-versus-a-copy\n",
      "  df1[col].replace({'Yes': 1,'No': 0},inplace=True)\n"
     ]
    }
   ],
   "source": [
    "yes_no_columns = ['Partner','Dependents','PhoneService','MultipleLines','OnlineSecurity','OnlineBackup',\n",
    "                  'DeviceProtection','TechSupport','StreamingTV','StreamingMovies','PaperlessBilling','Churn']\n",
    "for col in yes_no_columns:\n",
    "    df1[col].replace({'Yes': 1,'No': 0},inplace=True)"
   ]
  },
  {
   "cell_type": "code",
   "execution_count": 19,
   "metadata": {},
   "outputs": [
    {
     "name": "stdout",
     "output_type": "stream",
     "text": [
      "gender: ['Female' 'Male']\n",
      "SeniorCitizen: [0 1]\n",
      "Partner: [1 0]\n",
      "Dependents: [0 1]\n",
      "tenure: [ 1 34  2 45  8 22 10 28 62 13 16 58 49 25 69 52 71 21 12 30 47 72 17 27\n",
      "  5 46 11 70 63 43 15 60 18 66  9  3 31 50 64 56  7 42 35 48 29 65 38 68\n",
      " 32 55 37 36 41  6  4 33 67 23 57 61 14 20 53 40 59 24 44 19 54 51 26 39]\n",
      "PhoneService: [0 1]\n",
      "MultipleLines: [0 1]\n",
      "InternetService: ['DSL' 'Fiber optic' 'No']\n",
      "OnlineSecurity: [0 1]\n",
      "OnlineBackup: [1 0]\n",
      "DeviceProtection: [0 1]\n",
      "TechSupport: [0 1]\n",
      "StreamingTV: [0 1]\n",
      "StreamingMovies: [0 1]\n",
      "Contract: ['Month-to-month' 'One year' 'Two year']\n",
      "PaperlessBilling: [1 0]\n",
      "PaymentMethod: ['Electronic check' 'Mailed check' 'Bank transfer (automatic)'\n",
      " 'Credit card (automatic)']\n",
      "MonthlyCharges: [29.85 56.95 53.85 ... 63.1  44.2  78.7 ]\n",
      "TotalCharges: [  29.85 1889.5   108.15 ...  346.45  306.6  6844.5 ]\n",
      "Churn: [0 1]\n"
     ]
    }
   ],
   "source": [
    "for col in df1:\n",
    "    print(f'{col}: {df1[col].unique()}') "
   ]
  },
  {
   "cell_type": "code",
   "execution_count": 20,
   "metadata": {},
   "outputs": [
    {
     "name": "stderr",
     "output_type": "stream",
     "text": [
      "/var/folders/x8/0cf3559138x388gr8s9rqtl80000gn/T/ipykernel_94454/698335744.py:1: SettingWithCopyWarning: \n",
      "A value is trying to be set on a copy of a slice from a DataFrame\n",
      "\n",
      "See the caveats in the documentation: https://pandas.pydata.org/pandas-docs/stable/user_guide/indexing.html#returning-a-view-versus-a-copy\n",
      "  df1['gender'].replace({'Female':1,'Male':0},inplace=True)\n"
     ]
    }
   ],
   "source": [
    "df1['gender'].replace({'Female':1,'Male':0},inplace=True)"
   ]
  },
  {
   "cell_type": "code",
   "execution_count": 21,
   "metadata": {},
   "outputs": [
    {
     "data": {
      "text/plain": [
       "array([1, 0])"
      ]
     },
     "execution_count": 21,
     "metadata": {},
     "output_type": "execute_result"
    }
   ],
   "source": [
    "df1['gender'].unique()"
   ]
  },
  {
   "cell_type": "code",
   "execution_count": 22,
   "metadata": {},
   "outputs": [
    {
     "data": {
      "text/plain": [
       "Index(['gender', 'SeniorCitizen', 'Partner', 'Dependents', 'tenure',\n",
       "       'PhoneService', 'MultipleLines', 'OnlineSecurity', 'OnlineBackup',\n",
       "       'DeviceProtection', 'TechSupport', 'StreamingTV', 'StreamingMovies',\n",
       "       'PaperlessBilling', 'MonthlyCharges', 'TotalCharges', 'Churn',\n",
       "       'InternetService_DSL', 'InternetService_Fiber optic',\n",
       "       'InternetService_No', 'Contract_Month-to-month', 'Contract_One year',\n",
       "       'Contract_Two year', 'PaymentMethod_Bank transfer (automatic)',\n",
       "       'PaymentMethod_Credit card (automatic)',\n",
       "       'PaymentMethod_Electronic check', 'PaymentMethod_Mailed check'],\n",
       "      dtype='object')"
      ]
     },
     "execution_count": 22,
     "metadata": {},
     "output_type": "execute_result"
    }
   ],
   "source": [
    "df2 = pd.get_dummies(data=df1, columns=['InternetService','Contract','PaymentMethod'])\n",
    "df2.columns"
   ]
  },
  {
   "cell_type": "code",
   "execution_count": 23,
   "metadata": {},
   "outputs": [
    {
     "data": {
      "text/plain": [
       "gender                                       int64\n",
       "SeniorCitizen                                int64\n",
       "Partner                                      int64\n",
       "Dependents                                   int64\n",
       "tenure                                       int64\n",
       "PhoneService                                 int64\n",
       "MultipleLines                                int64\n",
       "OnlineSecurity                               int64\n",
       "OnlineBackup                                 int64\n",
       "DeviceProtection                             int64\n",
       "TechSupport                                  int64\n",
       "StreamingTV                                  int64\n",
       "StreamingMovies                              int64\n",
       "PaperlessBilling                             int64\n",
       "MonthlyCharges                             float64\n",
       "TotalCharges                               float64\n",
       "Churn                                        int64\n",
       "InternetService_DSL                          uint8\n",
       "InternetService_Fiber optic                  uint8\n",
       "InternetService_No                           uint8\n",
       "Contract_Month-to-month                      uint8\n",
       "Contract_One year                            uint8\n",
       "Contract_Two year                            uint8\n",
       "PaymentMethod_Bank transfer (automatic)      uint8\n",
       "PaymentMethod_Credit card (automatic)        uint8\n",
       "PaymentMethod_Electronic check               uint8\n",
       "PaymentMethod_Mailed check                   uint8\n",
       "dtype: object"
      ]
     },
     "execution_count": 23,
     "metadata": {},
     "output_type": "execute_result"
    }
   ],
   "source": [
    "df2.dtypes"
   ]
  },
  {
   "cell_type": "code",
   "execution_count": 24,
   "metadata": {},
   "outputs": [],
   "source": [
    "cols_to_scale = ['tenure','MonthlyCharges','TotalCharges']\n",
    "\n",
    "from sklearn.preprocessing import MinMaxScaler\n",
    "scaler = MinMaxScaler()\n",
    "df2[cols_to_scale] = scaler.fit_transform(df2[cols_to_scale])\n"
   ]
  },
  {
   "cell_type": "code",
   "execution_count": 36,
   "metadata": {},
   "outputs": [
    {
     "data": {
      "text/html": [
       "<div>\n",
       "<style scoped>\n",
       "    .dataframe tbody tr th:only-of-type {\n",
       "        vertical-align: middle;\n",
       "    }\n",
       "\n",
       "    .dataframe tbody tr th {\n",
       "        vertical-align: top;\n",
       "    }\n",
       "\n",
       "    .dataframe thead th {\n",
       "        text-align: right;\n",
       "    }\n",
       "</style>\n",
       "<table border=\"1\" class=\"dataframe\">\n",
       "  <thead>\n",
       "    <tr style=\"text-align: right;\">\n",
       "      <th></th>\n",
       "      <th>gender</th>\n",
       "      <th>SeniorCitizen</th>\n",
       "      <th>Partner</th>\n",
       "      <th>Dependents</th>\n",
       "      <th>tenure</th>\n",
       "      <th>PhoneService</th>\n",
       "      <th>MultipleLines</th>\n",
       "      <th>OnlineSecurity</th>\n",
       "      <th>OnlineBackup</th>\n",
       "      <th>DeviceProtection</th>\n",
       "      <th>...</th>\n",
       "      <th>InternetService_DSL</th>\n",
       "      <th>InternetService_Fiber optic</th>\n",
       "      <th>InternetService_No</th>\n",
       "      <th>Contract_Month-to-month</th>\n",
       "      <th>Contract_One year</th>\n",
       "      <th>Contract_Two year</th>\n",
       "      <th>PaymentMethod_Bank transfer (automatic)</th>\n",
       "      <th>PaymentMethod_Credit card (automatic)</th>\n",
       "      <th>PaymentMethod_Electronic check</th>\n",
       "      <th>PaymentMethod_Mailed check</th>\n",
       "    </tr>\n",
       "  </thead>\n",
       "  <tbody>\n",
       "    <tr>\n",
       "      <th>0</th>\n",
       "      <td>1</td>\n",
       "      <td>0</td>\n",
       "      <td>1</td>\n",
       "      <td>0</td>\n",
       "      <td>0.000000</td>\n",
       "      <td>0</td>\n",
       "      <td>0</td>\n",
       "      <td>0</td>\n",
       "      <td>1</td>\n",
       "      <td>0</td>\n",
       "      <td>...</td>\n",
       "      <td>1</td>\n",
       "      <td>0</td>\n",
       "      <td>0</td>\n",
       "      <td>1</td>\n",
       "      <td>0</td>\n",
       "      <td>0</td>\n",
       "      <td>0</td>\n",
       "      <td>0</td>\n",
       "      <td>1</td>\n",
       "      <td>0</td>\n",
       "    </tr>\n",
       "    <tr>\n",
       "      <th>1</th>\n",
       "      <td>0</td>\n",
       "      <td>0</td>\n",
       "      <td>0</td>\n",
       "      <td>0</td>\n",
       "      <td>0.464789</td>\n",
       "      <td>1</td>\n",
       "      <td>0</td>\n",
       "      <td>1</td>\n",
       "      <td>0</td>\n",
       "      <td>1</td>\n",
       "      <td>...</td>\n",
       "      <td>1</td>\n",
       "      <td>0</td>\n",
       "      <td>0</td>\n",
       "      <td>0</td>\n",
       "      <td>1</td>\n",
       "      <td>0</td>\n",
       "      <td>0</td>\n",
       "      <td>0</td>\n",
       "      <td>0</td>\n",
       "      <td>1</td>\n",
       "    </tr>\n",
       "    <tr>\n",
       "      <th>2</th>\n",
       "      <td>0</td>\n",
       "      <td>0</td>\n",
       "      <td>0</td>\n",
       "      <td>0</td>\n",
       "      <td>0.014085</td>\n",
       "      <td>1</td>\n",
       "      <td>0</td>\n",
       "      <td>1</td>\n",
       "      <td>1</td>\n",
       "      <td>0</td>\n",
       "      <td>...</td>\n",
       "      <td>1</td>\n",
       "      <td>0</td>\n",
       "      <td>0</td>\n",
       "      <td>1</td>\n",
       "      <td>0</td>\n",
       "      <td>0</td>\n",
       "      <td>0</td>\n",
       "      <td>0</td>\n",
       "      <td>0</td>\n",
       "      <td>1</td>\n",
       "    </tr>\n",
       "    <tr>\n",
       "      <th>3</th>\n",
       "      <td>0</td>\n",
       "      <td>0</td>\n",
       "      <td>0</td>\n",
       "      <td>0</td>\n",
       "      <td>0.619718</td>\n",
       "      <td>0</td>\n",
       "      <td>0</td>\n",
       "      <td>1</td>\n",
       "      <td>0</td>\n",
       "      <td>1</td>\n",
       "      <td>...</td>\n",
       "      <td>1</td>\n",
       "      <td>0</td>\n",
       "      <td>0</td>\n",
       "      <td>0</td>\n",
       "      <td>1</td>\n",
       "      <td>0</td>\n",
       "      <td>1</td>\n",
       "      <td>0</td>\n",
       "      <td>0</td>\n",
       "      <td>0</td>\n",
       "    </tr>\n",
       "    <tr>\n",
       "      <th>4</th>\n",
       "      <td>1</td>\n",
       "      <td>0</td>\n",
       "      <td>0</td>\n",
       "      <td>0</td>\n",
       "      <td>0.014085</td>\n",
       "      <td>1</td>\n",
       "      <td>0</td>\n",
       "      <td>0</td>\n",
       "      <td>0</td>\n",
       "      <td>0</td>\n",
       "      <td>...</td>\n",
       "      <td>0</td>\n",
       "      <td>1</td>\n",
       "      <td>0</td>\n",
       "      <td>1</td>\n",
       "      <td>0</td>\n",
       "      <td>0</td>\n",
       "      <td>0</td>\n",
       "      <td>0</td>\n",
       "      <td>1</td>\n",
       "      <td>0</td>\n",
       "    </tr>\n",
       "  </tbody>\n",
       "</table>\n",
       "<p>5 rows × 27 columns</p>\n",
       "</div>"
      ],
      "text/plain": [
       "   gender  SeniorCitizen  Partner  Dependents    tenure  PhoneService  \\\n",
       "0       1              0        1           0  0.000000             0   \n",
       "1       0              0        0           0  0.464789             1   \n",
       "2       0              0        0           0  0.014085             1   \n",
       "3       0              0        0           0  0.619718             0   \n",
       "4       1              0        0           0  0.014085             1   \n",
       "\n",
       "   MultipleLines  OnlineSecurity  OnlineBackup  DeviceProtection  ...  \\\n",
       "0              0               0             1                 0  ...   \n",
       "1              0               1             0                 1  ...   \n",
       "2              0               1             1                 0  ...   \n",
       "3              0               1             0                 1  ...   \n",
       "4              0               0             0                 0  ...   \n",
       "\n",
       "   InternetService_DSL  InternetService_Fiber optic  InternetService_No  \\\n",
       "0                    1                            0                   0   \n",
       "1                    1                            0                   0   \n",
       "2                    1                            0                   0   \n",
       "3                    1                            0                   0   \n",
       "4                    0                            1                   0   \n",
       "\n",
       "   Contract_Month-to-month  Contract_One year  Contract_Two year  \\\n",
       "0                        1                  0                  0   \n",
       "1                        0                  1                  0   \n",
       "2                        1                  0                  0   \n",
       "3                        0                  1                  0   \n",
       "4                        1                  0                  0   \n",
       "\n",
       "   PaymentMethod_Bank transfer (automatic)  \\\n",
       "0                                        0   \n",
       "1                                        0   \n",
       "2                                        0   \n",
       "3                                        1   \n",
       "4                                        0   \n",
       "\n",
       "   PaymentMethod_Credit card (automatic)  PaymentMethod_Electronic check  \\\n",
       "0                                      0                               1   \n",
       "1                                      0                               0   \n",
       "2                                      0                               0   \n",
       "3                                      0                               0   \n",
       "4                                      0                               1   \n",
       "\n",
       "   PaymentMethod_Mailed check  \n",
       "0                           0  \n",
       "1                           1  \n",
       "2                           1  \n",
       "3                           0  \n",
       "4                           0  \n",
       "\n",
       "[5 rows x 27 columns]"
      ]
     },
     "execution_count": 36,
     "metadata": {},
     "output_type": "execute_result"
    }
   ],
   "source": [
    "df2.head()"
   ]
  },
  {
   "cell_type": "code",
   "execution_count": 37,
   "metadata": {},
   "outputs": [],
   "source": [
    "df_class_1=df2[df2[\"Churn\"]==1]\n",
    "df_class_0=df2[df2[\"Churn\"]==0]"
   ]
  },
  {
   "cell_type": "code",
   "execution_count": 39,
   "metadata": {},
   "outputs": [
    {
     "data": {
      "text/plain": [
       "(1869, 27)"
      ]
     },
     "execution_count": 39,
     "metadata": {},
     "output_type": "execute_result"
    }
   ],
   "source": [
    "df_class_1.shape"
   ]
  },
  {
   "cell_type": "code",
   "execution_count": 41,
   "metadata": {},
   "outputs": [
    {
     "data": {
      "text/plain": [
       "(5163, 27)"
      ]
     },
     "execution_count": 41,
     "metadata": {},
     "output_type": "execute_result"
    }
   ],
   "source": [
    "df_class_0.shape"
   ]
  },
  {
   "cell_type": "code",
   "execution_count": 50,
   "metadata": {},
   "outputs": [],
   "source": [
    "df_0_small=df_class_0.sample(1869)\n",
    "\n",
    "df_same=pd.concat([df_0_small,df_class_1],axis=0)"
   ]
  },
  {
   "cell_type": "code",
   "execution_count": 51,
   "metadata": {},
   "outputs": [
    {
     "data": {
      "text/plain": [
       "(3738, 27)"
      ]
     },
     "execution_count": 51,
     "metadata": {},
     "output_type": "execute_result"
    }
   ],
   "source": [
    "df_same.shape"
   ]
  },
  {
   "cell_type": "code",
   "execution_count": 52,
   "metadata": {},
   "outputs": [],
   "source": [
    "x=df_same.drop(\"Churn\",axis=1)\n",
    "y=df_same[\"Churn\"]"
   ]
  },
  {
   "cell_type": "code",
   "execution_count": 53,
   "metadata": {},
   "outputs": [],
   "source": [
    "from sklearn.model_selection import train_test_split\n",
    "\n",
    "x_train,x_test,y_train,y_test=train_test_split(x,y,random_state=42,test_size=.2,stratify=y)"
   ]
  },
  {
   "cell_type": "code",
   "execution_count": 66,
   "metadata": {},
   "outputs": [],
   "source": [
    "def ANN(X_train, y_train, X_test, y_test, loss, weights):\n",
    "    model = keras.Sequential([\n",
    "        keras.layers.Dense(26, input_dim=26, activation='relu'),\n",
    "        keras.layers.Dense(15, activation='relu'),\n",
    "        keras.layers.Dense(1, activation='sigmoid')\n",
    "    ])\n",
    "\n",
    "    model.compile(optimizer='adam', loss=loss, metrics=['accuracy'])\n",
    "    \n",
    "    if weights == -1:\n",
    "        model.fit(X_train, y_train, epochs=100)\n",
    "    else:\n",
    "        model.fit(X_train, y_train, epochs=100, class_weight = weights)\n",
    "    \n",
    "    print(model.evaluate(X_test, y_test))\n",
    "    \n",
    "    y_preds = model.predict(X_test)\n",
    "    y_preds = np.round(y_preds)\n",
    "    \n",
    "    \n",
    "    \n",
    "    return y_preds"
   ]
  },
  {
   "cell_type": "code",
   "execution_count": 58,
   "metadata": {},
   "outputs": [
    {
     "name": "stdout",
     "output_type": "stream",
     "text": [
      "Epoch 1/100\n",
      "94/94 [==============================] - 1s 9ms/step - loss: 0.6017 - accuracy: 0.6993\n",
      "Epoch 2/100\n",
      "94/94 [==============================] - 1s 8ms/step - loss: 0.5130 - accuracy: 0.7522\n",
      "Epoch 3/100\n",
      "94/94 [==============================] - 1s 9ms/step - loss: 0.4957 - accuracy: 0.7609\n",
      "Epoch 4/100\n",
      "94/94 [==============================] - 1s 8ms/step - loss: 0.4898 - accuracy: 0.7582\n",
      "Epoch 5/100\n",
      "94/94 [==============================] - 1s 8ms/step - loss: 0.4866 - accuracy: 0.7602\n",
      "Epoch 6/100\n",
      "94/94 [==============================] - 1s 7ms/step - loss: 0.4815 - accuracy: 0.7649\n",
      "Epoch 7/100\n",
      "94/94 [==============================] - 1s 7ms/step - loss: 0.4808 - accuracy: 0.7659\n",
      "Epoch 8/100\n",
      "94/94 [==============================] - 1s 7ms/step - loss: 0.4784 - accuracy: 0.7682\n",
      "Epoch 9/100\n",
      "94/94 [==============================] - 1s 7ms/step - loss: 0.4748 - accuracy: 0.7709\n",
      "Epoch 10/100\n",
      "94/94 [==============================] - 1s 8ms/step - loss: 0.4731 - accuracy: 0.7729\n",
      "Epoch 11/100\n",
      "94/94 [==============================] - 1s 8ms/step - loss: 0.4700 - accuracy: 0.7726\n",
      "Epoch 12/100\n",
      "94/94 [==============================] - 1s 7ms/step - loss: 0.4683 - accuracy: 0.7763\n",
      "Epoch 13/100\n",
      "94/94 [==============================] - 1s 7ms/step - loss: 0.4668 - accuracy: 0.7753\n",
      "Epoch 14/100\n",
      "94/94 [==============================] - 1s 7ms/step - loss: 0.4630 - accuracy: 0.7773\n",
      "Epoch 15/100\n",
      "94/94 [==============================] - 1s 7ms/step - loss: 0.4625 - accuracy: 0.7803\n",
      "Epoch 16/100\n",
      "94/94 [==============================] - 1s 7ms/step - loss: 0.4594 - accuracy: 0.7779\n",
      "Epoch 17/100\n",
      "94/94 [==============================] - 1s 8ms/step - loss: 0.4584 - accuracy: 0.7863\n",
      "Epoch 18/100\n",
      "94/94 [==============================] - 1s 8ms/step - loss: 0.4581 - accuracy: 0.7793\n",
      "Epoch 19/100\n",
      "94/94 [==============================] - 1s 7ms/step - loss: 0.4545 - accuracy: 0.7853\n",
      "Epoch 20/100\n",
      "94/94 [==============================] - 1s 7ms/step - loss: 0.4529 - accuracy: 0.7846\n",
      "Epoch 21/100\n",
      "94/94 [==============================] - 1s 7ms/step - loss: 0.4519 - accuracy: 0.7846\n",
      "Epoch 22/100\n",
      "94/94 [==============================] - 1s 8ms/step - loss: 0.4503 - accuracy: 0.7870\n",
      "Epoch 23/100\n",
      "94/94 [==============================] - 1s 7ms/step - loss: 0.4476 - accuracy: 0.7893\n",
      "Epoch 24/100\n",
      "94/94 [==============================] - 1s 8ms/step - loss: 0.4475 - accuracy: 0.7886\n",
      "Epoch 25/100\n",
      "94/94 [==============================] - 1s 7ms/step - loss: 0.4449 - accuracy: 0.7876\n",
      "Epoch 26/100\n",
      "94/94 [==============================] - 1s 7ms/step - loss: 0.4450 - accuracy: 0.7863\n",
      "Epoch 27/100\n",
      "94/94 [==============================] - 1s 7ms/step - loss: 0.4434 - accuracy: 0.7916\n",
      "Epoch 28/100\n",
      "94/94 [==============================] - 1s 7ms/step - loss: 0.4415 - accuracy: 0.7940\n",
      "Epoch 29/100\n",
      "94/94 [==============================] - 1s 7ms/step - loss: 0.4392 - accuracy: 0.7906\n",
      "Epoch 30/100\n",
      "94/94 [==============================] - 1s 7ms/step - loss: 0.4395 - accuracy: 0.7930\n",
      "Epoch 31/100\n",
      "94/94 [==============================] - 1s 8ms/step - loss: 0.4369 - accuracy: 0.7900\n",
      "Epoch 32/100\n",
      "94/94 [==============================] - 1s 7ms/step - loss: 0.4355 - accuracy: 0.7953\n",
      "Epoch 33/100\n",
      "94/94 [==============================] - 1s 7ms/step - loss: 0.4337 - accuracy: 0.7936\n",
      "Epoch 34/100\n",
      "94/94 [==============================] - 1s 7ms/step - loss: 0.4314 - accuracy: 0.7950\n",
      "Epoch 35/100\n",
      "94/94 [==============================] - 1s 7ms/step - loss: 0.4313 - accuracy: 0.7950\n",
      "Epoch 36/100\n",
      "94/94 [==============================] - 1s 7ms/step - loss: 0.4292 - accuracy: 0.7977\n",
      "Epoch 37/100\n",
      "94/94 [==============================] - 1s 8ms/step - loss: 0.4297 - accuracy: 0.7980\n",
      "Epoch 38/100\n",
      "94/94 [==============================] - 1s 7ms/step - loss: 0.4254 - accuracy: 0.8030\n",
      "Epoch 39/100\n",
      "94/94 [==============================] - 1s 7ms/step - loss: 0.4262 - accuracy: 0.7973\n",
      "Epoch 40/100\n",
      "94/94 [==============================] - 1s 7ms/step - loss: 0.4251 - accuracy: 0.7987\n",
      "Epoch 41/100\n",
      "94/94 [==============================] - 1s 7ms/step - loss: 0.4238 - accuracy: 0.7970\n",
      "Epoch 42/100\n",
      "94/94 [==============================] - 1s 7ms/step - loss: 0.4216 - accuracy: 0.8013\n",
      "Epoch 43/100\n",
      "94/94 [==============================] - 1s 7ms/step - loss: 0.4216 - accuracy: 0.8043\n",
      "Epoch 44/100\n",
      "94/94 [==============================] - 1s 8ms/step - loss: 0.4201 - accuracy: 0.7980\n",
      "Epoch 45/100\n",
      "94/94 [==============================] - 1s 7ms/step - loss: 0.4180 - accuracy: 0.7987\n",
      "Epoch 46/100\n",
      "94/94 [==============================] - 1s 7ms/step - loss: 0.4170 - accuracy: 0.8070\n",
      "Epoch 47/100\n",
      "94/94 [==============================] - 1s 7ms/step - loss: 0.4158 - accuracy: 0.8037\n",
      "Epoch 48/100\n",
      "94/94 [==============================] - 1s 7ms/step - loss: 0.4160 - accuracy: 0.8023\n",
      "Epoch 49/100\n",
      "94/94 [==============================] - 1s 7ms/step - loss: 0.4151 - accuracy: 0.8094\n",
      "Epoch 50/100\n",
      "94/94 [==============================] - 1s 7ms/step - loss: 0.4130 - accuracy: 0.8084\n",
      "Epoch 51/100\n",
      "94/94 [==============================] - 1s 8ms/step - loss: 0.4136 - accuracy: 0.8060\n",
      "Epoch 52/100\n",
      "94/94 [==============================] - 1s 7ms/step - loss: 0.4098 - accuracy: 0.8070\n",
      "Epoch 53/100\n",
      "94/94 [==============================] - 1s 7ms/step - loss: 0.4094 - accuracy: 0.8090\n",
      "Epoch 54/100\n",
      "94/94 [==============================] - 1s 7ms/step - loss: 0.4102 - accuracy: 0.8124\n",
      "Epoch 55/100\n",
      "94/94 [==============================] - 1s 7ms/step - loss: 0.4089 - accuracy: 0.8124\n",
      "Epoch 56/100\n",
      "94/94 [==============================] - 1s 7ms/step - loss: 0.4079 - accuracy: 0.8094\n",
      "Epoch 57/100\n",
      "94/94 [==============================] - 1s 7ms/step - loss: 0.4074 - accuracy: 0.8074\n",
      "Epoch 58/100\n",
      "94/94 [==============================] - 1s 7ms/step - loss: 0.4051 - accuracy: 0.8077\n",
      "Epoch 59/100\n",
      "94/94 [==============================] - 1s 7ms/step - loss: 0.4053 - accuracy: 0.8094\n",
      "Epoch 60/100\n",
      "94/94 [==============================] - 1s 7ms/step - loss: 0.4036 - accuracy: 0.8117\n",
      "Epoch 61/100\n",
      "94/94 [==============================] - 1s 7ms/step - loss: 0.4030 - accuracy: 0.8107\n",
      "Epoch 62/100\n",
      "94/94 [==============================] - 1s 7ms/step - loss: 0.4018 - accuracy: 0.8110\n",
      "Epoch 63/100\n",
      "94/94 [==============================] - 1s 7ms/step - loss: 0.4017 - accuracy: 0.8140\n",
      "Epoch 64/100\n",
      "94/94 [==============================] - 1s 8ms/step - loss: 0.4009 - accuracy: 0.8110\n",
      "Epoch 65/100\n",
      "94/94 [==============================] - 1s 7ms/step - loss: 0.4008 - accuracy: 0.8167\n",
      "Epoch 66/100\n",
      "94/94 [==============================] - 1s 7ms/step - loss: 0.3995 - accuracy: 0.8117\n",
      "Epoch 67/100\n",
      "94/94 [==============================] - 1s 7ms/step - loss: 0.3970 - accuracy: 0.8151\n",
      "Epoch 68/100\n",
      "94/94 [==============================] - 1s 7ms/step - loss: 0.3954 - accuracy: 0.8187\n",
      "Epoch 69/100\n",
      "94/94 [==============================] - 1s 8ms/step - loss: 0.3965 - accuracy: 0.8187\n",
      "Epoch 70/100\n",
      "94/94 [==============================] - 1s 8ms/step - loss: 0.3945 - accuracy: 0.8147\n",
      "Epoch 71/100\n",
      "94/94 [==============================] - 1s 8ms/step - loss: 0.3946 - accuracy: 0.8201\n",
      "Epoch 72/100\n",
      "94/94 [==============================] - 1s 7ms/step - loss: 0.3972 - accuracy: 0.8117\n",
      "Epoch 73/100\n",
      "94/94 [==============================] - 1s 8ms/step - loss: 0.3947 - accuracy: 0.8184\n",
      "Epoch 74/100\n",
      "94/94 [==============================] - 1s 7ms/step - loss: 0.3924 - accuracy: 0.8191\n",
      "Epoch 75/100\n",
      "94/94 [==============================] - 1s 7ms/step - loss: 0.3914 - accuracy: 0.8161\n",
      "Epoch 76/100\n",
      "94/94 [==============================] - 1s 8ms/step - loss: 0.3905 - accuracy: 0.8191\n",
      "Epoch 77/100\n",
      "94/94 [==============================] - 1s 7ms/step - loss: 0.3902 - accuracy: 0.8231\n",
      "Epoch 78/100\n",
      "94/94 [==============================] - 1s 7ms/step - loss: 0.3893 - accuracy: 0.8164\n",
      "Epoch 79/100\n",
      "94/94 [==============================] - 1s 7ms/step - loss: 0.3910 - accuracy: 0.8147\n",
      "Epoch 80/100\n",
      "94/94 [==============================] - 1s 7ms/step - loss: 0.3888 - accuracy: 0.8184\n",
      "Epoch 81/100\n",
      "94/94 [==============================] - 1s 7ms/step - loss: 0.3889 - accuracy: 0.8194\n",
      "Epoch 82/100\n",
      "94/94 [==============================] - 1s 7ms/step - loss: 0.3896 - accuracy: 0.8134\n",
      "Epoch 83/100\n",
      "94/94 [==============================] - 1s 8ms/step - loss: 0.3863 - accuracy: 0.8181\n",
      "Epoch 84/100\n",
      "94/94 [==============================] - 1s 7ms/step - loss: 0.3865 - accuracy: 0.8181\n",
      "Epoch 85/100\n",
      "94/94 [==============================] - 1s 7ms/step - loss: 0.3859 - accuracy: 0.8258\n",
      "Epoch 86/100\n",
      "94/94 [==============================] - 1s 7ms/step - loss: 0.3859 - accuracy: 0.8177\n",
      "Epoch 87/100\n",
      "94/94 [==============================] - 1s 7ms/step - loss: 0.3851 - accuracy: 0.8231\n",
      "Epoch 88/100\n",
      "94/94 [==============================] - 1s 7ms/step - loss: 0.3833 - accuracy: 0.8268\n",
      "Epoch 89/100\n",
      "94/94 [==============================] - 1s 8ms/step - loss: 0.3862 - accuracy: 0.8224\n",
      "Epoch 90/100\n",
      "94/94 [==============================] - 1s 7ms/step - loss: 0.3822 - accuracy: 0.8241\n",
      "Epoch 91/100\n",
      "94/94 [==============================] - 1s 7ms/step - loss: 0.3822 - accuracy: 0.8217\n",
      "Epoch 92/100\n",
      "94/94 [==============================] - 1s 7ms/step - loss: 0.3786 - accuracy: 0.8194\n",
      "Epoch 93/100\n",
      "94/94 [==============================] - 1s 7ms/step - loss: 0.3805 - accuracy: 0.8234\n",
      "Epoch 94/100\n",
      "94/94 [==============================] - 1s 7ms/step - loss: 0.3816 - accuracy: 0.8234\n",
      "Epoch 95/100\n",
      "94/94 [==============================] - 1s 8ms/step - loss: 0.3789 - accuracy: 0.8264\n",
      "Epoch 96/100\n",
      "94/94 [==============================] - 1s 7ms/step - loss: 0.3767 - accuracy: 0.8237\n",
      "Epoch 97/100\n",
      "94/94 [==============================] - 1s 7ms/step - loss: 0.3767 - accuracy: 0.8261\n",
      "Epoch 98/100\n",
      "94/94 [==============================] - 1s 7ms/step - loss: 0.3761 - accuracy: 0.8247\n",
      "Epoch 99/100\n",
      "94/94 [==============================] - 1s 7ms/step - loss: 0.3756 - accuracy: 0.8247\n",
      "Epoch 100/100\n",
      "94/94 [==============================] - 1s 7ms/step - loss: 0.3745 - accuracy: 0.8284\n",
      "24/24 [==============================] - 0s 8ms/step - loss: 0.6344 - accuracy: 0.7019\n",
      "[0.6344412565231323, 0.7018716335296631]\n",
      "24/24 [==============================] - 0s 5ms/step\n",
      "Classification Report: \n",
      "               precision    recall  f1-score   support\n",
      "\n",
      "           0       0.70      0.71      0.70       374\n",
      "           1       0.70      0.70      0.70       374\n",
      "\n",
      "    accuracy                           0.70       748\n",
      "   macro avg       0.70      0.70      0.70       748\n",
      "weighted avg       0.70      0.70      0.70       748\n",
      "\n"
     ]
    }
   ],
   "source": [
    "y_preds = ANN(x_train, y_train, x_test, y_test, 'binary_crossentropy', -1)"
   ]
  },
  {
   "cell_type": "code",
   "execution_count": 59,
   "metadata": {},
   "outputs": [
    {
     "name": "stdout",
     "output_type": "stream",
     "text": [
      "Classification Report: \n",
      "               precision    recall  f1-score   support\n",
      "\n",
      "           0       0.70      0.71      0.70       374\n",
      "           1       0.70      0.70      0.70       374\n",
      "\n",
      "    accuracy                           0.70       748\n",
      "   macro avg       0.70      0.70      0.70       748\n",
      "weighted avg       0.70      0.70      0.70       748\n",
      "\n"
     ]
    }
   ],
   "source": [
    "print(\"Classification Report: \\n\", classification_report(y_test, y_preds))"
   ]
  },
  {
   "cell_type": "markdown",
   "metadata": {},
   "source": [
    "# Oversampling"
   ]
  },
  {
   "cell_type": "code",
   "execution_count": 60,
   "metadata": {},
   "outputs": [],
   "source": [
    "df_class_1=df2[df2[\"Churn\"]==1]\n",
    "df_class_0=df2[df2[\"Churn\"]==0]"
   ]
  },
  {
   "cell_type": "code",
   "execution_count": 61,
   "metadata": {},
   "outputs": [
    {
     "data": {
      "text/plain": [
       "(1869, 27)"
      ]
     },
     "execution_count": 61,
     "metadata": {},
     "output_type": "execute_result"
    }
   ],
   "source": [
    "df_class_1.shape"
   ]
  },
  {
   "cell_type": "code",
   "execution_count": 62,
   "metadata": {},
   "outputs": [
    {
     "data": {
      "text/plain": [
       "(5163, 27)"
      ]
     },
     "execution_count": 62,
     "metadata": {},
     "output_type": "execute_result"
    }
   ],
   "source": [
    "df_class_0.shape"
   ]
  },
  {
   "cell_type": "code",
   "execution_count": 64,
   "metadata": {},
   "outputs": [],
   "source": [
    "df_1_big=df_class_1.sample(5163,replace=True)\n",
    "\n",
    "df_same=pd.concat([df_class_0,df_1_big],axis=0)"
   ]
  },
  {
   "cell_type": "code",
   "execution_count": 65,
   "metadata": {},
   "outputs": [
    {
     "data": {
      "text/plain": [
       "(10326, 27)"
      ]
     },
     "execution_count": 65,
     "metadata": {},
     "output_type": "execute_result"
    }
   ],
   "source": [
    "df_same.shape"
   ]
  },
  {
   "cell_type": "code",
   "execution_count": 67,
   "metadata": {},
   "outputs": [],
   "source": [
    "x=df_same.drop(\"Churn\",axis=1)\n",
    "y=df_same[\"Churn\"]"
   ]
  },
  {
   "cell_type": "code",
   "execution_count": 68,
   "metadata": {},
   "outputs": [],
   "source": [
    "from sklearn.model_selection import train_test_split\n",
    "\n",
    "x_train,x_test,y_train,y_test=train_test_split(x,y,random_state=42,test_size=.2,stratify=y)"
   ]
  },
  {
   "cell_type": "code",
   "execution_count": 69,
   "metadata": {},
   "outputs": [
    {
     "name": "stdout",
     "output_type": "stream",
     "text": [
      "Epoch 1/100\n",
      "259/259 [==============================] - 4s 11ms/step - loss: 0.5366 - accuracy: 0.7339\n",
      "Epoch 2/100\n",
      "259/259 [==============================] - 2s 8ms/step - loss: 0.4851 - accuracy: 0.7662\n",
      "Epoch 3/100\n",
      "259/259 [==============================] - 2s 8ms/step - loss: 0.4798 - accuracy: 0.7673\n",
      "Epoch 4/100\n",
      "259/259 [==============================] - 2s 7ms/step - loss: 0.4747 - accuracy: 0.7707\n",
      "Epoch 5/100\n",
      "259/259 [==============================] - 2s 7ms/step - loss: 0.4717 - accuracy: 0.7765\n",
      "Epoch 6/100\n",
      "259/259 [==============================] - 2s 7ms/step - loss: 0.4686 - accuracy: 0.7741\n",
      "Epoch 7/100\n",
      "259/259 [==============================] - 2s 7ms/step - loss: 0.4660 - accuracy: 0.7775\n",
      "Epoch 8/100\n",
      "259/259 [==============================] - 2s 8ms/step - loss: 0.4640 - accuracy: 0.7787\n",
      "Epoch 9/100\n",
      "259/259 [==============================] - 2s 7ms/step - loss: 0.4610 - accuracy: 0.7783\n",
      "Epoch 10/100\n",
      "259/259 [==============================] - 2s 7ms/step - loss: 0.4585 - accuracy: 0.7783\n",
      "Epoch 11/100\n",
      "259/259 [==============================] - 2s 7ms/step - loss: 0.4565 - accuracy: 0.7821\n",
      "Epoch 12/100\n",
      "259/259 [==============================] - 2s 7ms/step - loss: 0.4553 - accuracy: 0.7785\n",
      "Epoch 13/100\n",
      "259/259 [==============================] - 2s 8ms/step - loss: 0.4525 - accuracy: 0.7829\n",
      "Epoch 14/100\n",
      "259/259 [==============================] - 2s 7ms/step - loss: 0.4507 - accuracy: 0.7828\n",
      "Epoch 15/100\n",
      "259/259 [==============================] - 2s 7ms/step - loss: 0.4495 - accuracy: 0.7831\n",
      "Epoch 16/100\n",
      "259/259 [==============================] - 2s 7ms/step - loss: 0.4473 - accuracy: 0.7863\n",
      "Epoch 17/100\n",
      "259/259 [==============================] - 2s 7ms/step - loss: 0.4454 - accuracy: 0.7855\n",
      "Epoch 18/100\n",
      "259/259 [==============================] - 2s 7ms/step - loss: 0.4439 - accuracy: 0.7851\n",
      "Epoch 19/100\n",
      "259/259 [==============================] - 2s 7ms/step - loss: 0.4417 - accuracy: 0.7861\n",
      "Epoch 20/100\n",
      "259/259 [==============================] - 2s 7ms/step - loss: 0.4400 - accuracy: 0.7869\n",
      "Epoch 21/100\n",
      "259/259 [==============================] - 2s 8ms/step - loss: 0.4382 - accuracy: 0.7906\n",
      "Epoch 22/100\n",
      "259/259 [==============================] - 2s 7ms/step - loss: 0.4373 - accuracy: 0.7898\n",
      "Epoch 23/100\n",
      "259/259 [==============================] - 2s 7ms/step - loss: 0.4358 - accuracy: 0.7920\n",
      "Epoch 24/100\n",
      "259/259 [==============================] - 2s 7ms/step - loss: 0.4339 - accuracy: 0.7944\n",
      "Epoch 25/100\n",
      "259/259 [==============================] - 2s 7ms/step - loss: 0.4320 - accuracy: 0.7956\n",
      "Epoch 26/100\n",
      "259/259 [==============================] - 2s 7ms/step - loss: 0.4309 - accuracy: 0.7965\n",
      "Epoch 27/100\n",
      "259/259 [==============================] - 2s 8ms/step - loss: 0.4296 - accuracy: 0.7969\n",
      "Epoch 28/100\n",
      "259/259 [==============================] - 2s 7ms/step - loss: 0.4281 - accuracy: 0.7990\n",
      "Epoch 29/100\n",
      "259/259 [==============================] - 2s 7ms/step - loss: 0.4268 - accuracy: 0.8010\n",
      "Epoch 30/100\n",
      "259/259 [==============================] - 2s 7ms/step - loss: 0.4254 - accuracy: 0.7977\n",
      "Epoch 31/100\n",
      "259/259 [==============================] - 2s 7ms/step - loss: 0.4237 - accuracy: 0.7975\n",
      "Epoch 32/100\n",
      "259/259 [==============================] - 2s 7ms/step - loss: 0.4232 - accuracy: 0.8000\n",
      "Epoch 33/100\n",
      "259/259 [==============================] - 2s 9ms/step - loss: 0.4213 - accuracy: 0.7999\n",
      "Epoch 34/100\n",
      "259/259 [==============================] - 2s 8ms/step - loss: 0.4194 - accuracy: 0.8041\n",
      "Epoch 35/100\n",
      "259/259 [==============================] - 2s 7ms/step - loss: 0.4203 - accuracy: 0.8008\n",
      "Epoch 36/100\n",
      "259/259 [==============================] - 2s 7ms/step - loss: 0.4175 - accuracy: 0.8050\n",
      "Epoch 37/100\n",
      "259/259 [==============================] - 2s 9ms/step - loss: 0.4169 - accuracy: 0.8034\n",
      "Epoch 38/100\n",
      "259/259 [==============================] - 2s 8ms/step - loss: 0.4155 - accuracy: 0.8033\n",
      "Epoch 39/100\n",
      "259/259 [==============================] - 2s 7ms/step - loss: 0.4145 - accuracy: 0.8038\n",
      "Epoch 40/100\n",
      "259/259 [==============================] - 2s 7ms/step - loss: 0.4137 - accuracy: 0.8070\n",
      "Epoch 41/100\n",
      "259/259 [==============================] - 2s 7ms/step - loss: 0.4123 - accuracy: 0.8038\n",
      "Epoch 42/100\n",
      "259/259 [==============================] - 2s 7ms/step - loss: 0.4112 - accuracy: 0.8064\n",
      "Epoch 43/100\n",
      "259/259 [==============================] - 2s 7ms/step - loss: 0.4102 - accuracy: 0.8074\n",
      "Epoch 44/100\n",
      "259/259 [==============================] - 2s 7ms/step - loss: 0.4082 - accuracy: 0.8045\n",
      "Epoch 45/100\n",
      "259/259 [==============================] - 2s 7ms/step - loss: 0.4091 - accuracy: 0.8057\n",
      "Epoch 46/100\n",
      "259/259 [==============================] - 2s 7ms/step - loss: 0.4070 - accuracy: 0.8076\n",
      "Epoch 47/100\n",
      "259/259 [==============================] - 2s 7ms/step - loss: 0.4064 - accuracy: 0.8077\n",
      "Epoch 48/100\n",
      "259/259 [==============================] - 2s 7ms/step - loss: 0.4059 - accuracy: 0.8084\n",
      "Epoch 49/100\n",
      "259/259 [==============================] - 2s 7ms/step - loss: 0.4038 - accuracy: 0.8127\n",
      "Epoch 50/100\n",
      "259/259 [==============================] - 2s 7ms/step - loss: 0.4053 - accuracy: 0.8086\n",
      "Epoch 51/100\n",
      "259/259 [==============================] - 2s 7ms/step - loss: 0.4024 - accuracy: 0.8111\n",
      "Epoch 52/100\n",
      "259/259 [==============================] - 2s 7ms/step - loss: 0.4021 - accuracy: 0.8088\n",
      "Epoch 53/100\n",
      "259/259 [==============================] - 2s 7ms/step - loss: 0.4025 - accuracy: 0.8122\n",
      "Epoch 54/100\n",
      "259/259 [==============================] - 2s 7ms/step - loss: 0.4006 - accuracy: 0.8131\n",
      "Epoch 55/100\n",
      "259/259 [==============================] - 2s 7ms/step - loss: 0.3998 - accuracy: 0.8144\n",
      "Epoch 56/100\n",
      "259/259 [==============================] - 2s 7ms/step - loss: 0.4006 - accuracy: 0.8150\n",
      "Epoch 57/100\n",
      "259/259 [==============================] - 2s 7ms/step - loss: 0.3972 - accuracy: 0.8150\n",
      "Epoch 58/100\n",
      "259/259 [==============================] - 2s 8ms/step - loss: 0.3987 - accuracy: 0.8167\n",
      "Epoch 59/100\n",
      "259/259 [==============================] - 2s 7ms/step - loss: 0.3973 - accuracy: 0.8144\n",
      "Epoch 60/100\n",
      "259/259 [==============================] - 2s 8ms/step - loss: 0.3959 - accuracy: 0.8150\n",
      "Epoch 61/100\n",
      "259/259 [==============================] - 2s 7ms/step - loss: 0.3949 - accuracy: 0.8154\n",
      "Epoch 62/100\n",
      "259/259 [==============================] - 2s 7ms/step - loss: 0.3946 - accuracy: 0.8146\n",
      "Epoch 63/100\n",
      "259/259 [==============================] - 2s 7ms/step - loss: 0.3935 - accuracy: 0.8182\n",
      "Epoch 64/100\n",
      "259/259 [==============================] - 2s 7ms/step - loss: 0.3932 - accuracy: 0.8185\n",
      "Epoch 65/100\n",
      "259/259 [==============================] - 2s 7ms/step - loss: 0.3929 - accuracy: 0.8195\n",
      "Epoch 66/100\n",
      "259/259 [==============================] - 2s 7ms/step - loss: 0.3909 - accuracy: 0.8189\n",
      "Epoch 67/100\n",
      "259/259 [==============================] - 2s 7ms/step - loss: 0.3912 - accuracy: 0.8186\n",
      "Epoch 68/100\n",
      "259/259 [==============================] - 2s 7ms/step - loss: 0.3903 - accuracy: 0.8184\n",
      "Epoch 69/100\n",
      "259/259 [==============================] - 2s 7ms/step - loss: 0.3910 - accuracy: 0.8205\n",
      "Epoch 70/100\n",
      "259/259 [==============================] - 2s 7ms/step - loss: 0.3884 - accuracy: 0.8215\n",
      "Epoch 71/100\n",
      "259/259 [==============================] - 2s 7ms/step - loss: 0.3877 - accuracy: 0.8236\n",
      "Epoch 72/100\n",
      "259/259 [==============================] - 2s 8ms/step - loss: 0.3872 - accuracy: 0.8223\n",
      "Epoch 73/100\n",
      "259/259 [==============================] - 2s 7ms/step - loss: 0.3867 - accuracy: 0.8234\n",
      "Epoch 74/100\n",
      "259/259 [==============================] - 2s 7ms/step - loss: 0.3863 - accuracy: 0.8249\n",
      "Epoch 75/100\n",
      "259/259 [==============================] - 2s 7ms/step - loss: 0.3849 - accuracy: 0.8260\n",
      "Epoch 76/100\n",
      "259/259 [==============================] - 2s 7ms/step - loss: 0.3849 - accuracy: 0.8263\n",
      "Epoch 77/100\n",
      "259/259 [==============================] - 2s 7ms/step - loss: 0.3838 - accuracy: 0.8260\n",
      "Epoch 78/100\n",
      "259/259 [==============================] - 2s 7ms/step - loss: 0.3830 - accuracy: 0.8240\n",
      "Epoch 79/100\n",
      "259/259 [==============================] - 2s 7ms/step - loss: 0.3831 - accuracy: 0.8259\n",
      "Epoch 80/100\n",
      "259/259 [==============================] - 2s 8ms/step - loss: 0.3828 - accuracy: 0.8242\n",
      "Epoch 81/100\n",
      "259/259 [==============================] - 2s 7ms/step - loss: 0.3816 - accuracy: 0.8283\n",
      "Epoch 82/100\n",
      "259/259 [==============================] - 2s 8ms/step - loss: 0.3809 - accuracy: 0.8270\n",
      "Epoch 83/100\n",
      "259/259 [==============================] - 2s 8ms/step - loss: 0.3802 - accuracy: 0.8266\n",
      "Epoch 84/100\n",
      "259/259 [==============================] - 2s 7ms/step - loss: 0.3801 - accuracy: 0.8295\n",
      "Epoch 85/100\n",
      "259/259 [==============================] - 2s 8ms/step - loss: 0.3782 - accuracy: 0.8295\n",
      "Epoch 86/100\n",
      "259/259 [==============================] - 2s 8ms/step - loss: 0.3779 - accuracy: 0.8322\n",
      "Epoch 87/100\n",
      "259/259 [==============================] - 2s 8ms/step - loss: 0.3783 - accuracy: 0.8288\n",
      "Epoch 88/100\n",
      "259/259 [==============================] - 2s 7ms/step - loss: 0.3757 - accuracy: 0.8315\n",
      "Epoch 89/100\n",
      "259/259 [==============================] - 2s 9ms/step - loss: 0.3765 - accuracy: 0.8321\n",
      "Epoch 90/100\n",
      "259/259 [==============================] - 2s 8ms/step - loss: 0.3755 - accuracy: 0.8349\n",
      "Epoch 91/100\n",
      "259/259 [==============================] - 2s 8ms/step - loss: 0.3750 - accuracy: 0.8324\n",
      "Epoch 92/100\n",
      "259/259 [==============================] - 2s 8ms/step - loss: 0.3751 - accuracy: 0.8314\n",
      "Epoch 93/100\n",
      "259/259 [==============================] - 2s 8ms/step - loss: 0.3752 - accuracy: 0.8315\n",
      "Epoch 94/100\n",
      "259/259 [==============================] - 2s 7ms/step - loss: 0.3741 - accuracy: 0.8314\n",
      "Epoch 95/100\n",
      "259/259 [==============================] - 2s 7ms/step - loss: 0.3730 - accuracy: 0.8306\n",
      "Epoch 96/100\n",
      "259/259 [==============================] - 2s 8ms/step - loss: 0.3726 - accuracy: 0.8295\n",
      "Epoch 97/100\n",
      "259/259 [==============================] - 2s 8ms/step - loss: 0.3735 - accuracy: 0.8339\n",
      "Epoch 98/100\n",
      "259/259 [==============================] - 2s 7ms/step - loss: 0.3711 - accuracy: 0.8355\n",
      "Epoch 99/100\n",
      "259/259 [==============================] - 2s 7ms/step - loss: 0.3717 - accuracy: 0.8346\n",
      "Epoch 100/100\n",
      "259/259 [==============================] - 2s 7ms/step - loss: 0.3701 - accuracy: 0.8366\n",
      "65/65 [==============================] - 1s 6ms/step - loss: 0.4768 - accuracy: 0.7924\n",
      "[0.47676709294319153, 0.7923523783683777]\n",
      "65/65 [==============================] - 0s 2ms/step\n"
     ]
    }
   ],
   "source": [
    "y_preds = ANN(x_train, y_train, x_test, y_test, 'binary_crossentropy', -1)"
   ]
  },
  {
   "cell_type": "code",
   "execution_count": 70,
   "metadata": {},
   "outputs": [
    {
     "name": "stdout",
     "output_type": "stream",
     "text": [
      "Classification Report: \n",
      "               precision    recall  f1-score   support\n",
      "\n",
      "           0       0.82      0.76      0.78      1033\n",
      "           1       0.77      0.83      0.80      1033\n",
      "\n",
      "    accuracy                           0.79      2066\n",
      "   macro avg       0.79      0.79      0.79      2066\n",
      "weighted avg       0.79      0.79      0.79      2066\n",
      "\n"
     ]
    }
   ],
   "source": [
    "print(\"Classification Report: \\n\", classification_report(y_test, y_preds))"
   ]
  }
 ],
 "metadata": {
  "kernelspec": {
   "display_name": "Python 3",
   "language": "python",
   "name": "python3"
  },
  "language_info": {
   "codemirror_mode": {
    "name": "ipython",
    "version": 3
   },
   "file_extension": ".py",
   "mimetype": "text/x-python",
   "name": "python",
   "nbconvert_exporter": "python",
   "pygments_lexer": "ipython3",
   "version": "3.10.7"
  },
  "orig_nbformat": 4
 },
 "nbformat": 4,
 "nbformat_minor": 2
}
